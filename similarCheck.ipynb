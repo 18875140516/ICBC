{
 "cells": [
  {
   "cell_type": "code",
   "execution_count": 1,
   "metadata": {},
   "outputs": [
    {
     "name": "stderr",
     "output_type": "stream",
     "text": [
      "Using TensorFlow backend.\n",
      "/home/lyz/miniconda3/envs/py36gpu/lib/python3.6/site-packages/tensorflow/python/framework/dtypes.py:516: FutureWarning: Passing (type, 1) or '1type' as a synonym of type is deprecated; in a future version of numpy, it will be understood as (type, (1,)) / '(1,)type'.\n",
      "  _np_qint8 = np.dtype([(\"qint8\", np.int8, 1)])\n",
      "/home/lyz/miniconda3/envs/py36gpu/lib/python3.6/site-packages/tensorflow/python/framework/dtypes.py:517: FutureWarning: Passing (type, 1) or '1type' as a synonym of type is deprecated; in a future version of numpy, it will be understood as (type, (1,)) / '(1,)type'.\n",
      "  _np_quint8 = np.dtype([(\"quint8\", np.uint8, 1)])\n",
      "/home/lyz/miniconda3/envs/py36gpu/lib/python3.6/site-packages/tensorflow/python/framework/dtypes.py:518: FutureWarning: Passing (type, 1) or '1type' as a synonym of type is deprecated; in a future version of numpy, it will be understood as (type, (1,)) / '(1,)type'.\n",
      "  _np_qint16 = np.dtype([(\"qint16\", np.int16, 1)])\n",
      "/home/lyz/miniconda3/envs/py36gpu/lib/python3.6/site-packages/tensorflow/python/framework/dtypes.py:519: FutureWarning: Passing (type, 1) or '1type' as a synonym of type is deprecated; in a future version of numpy, it will be understood as (type, (1,)) / '(1,)type'.\n",
      "  _np_quint16 = np.dtype([(\"quint16\", np.uint16, 1)])\n",
      "/home/lyz/miniconda3/envs/py36gpu/lib/python3.6/site-packages/tensorflow/python/framework/dtypes.py:520: FutureWarning: Passing (type, 1) or '1type' as a synonym of type is deprecated; in a future version of numpy, it will be understood as (type, (1,)) / '(1,)type'.\n",
      "  _np_qint32 = np.dtype([(\"qint32\", np.int32, 1)])\n",
      "/home/lyz/miniconda3/envs/py36gpu/lib/python3.6/site-packages/tensorflow/python/framework/dtypes.py:525: FutureWarning: Passing (type, 1) or '1type' as a synonym of type is deprecated; in a future version of numpy, it will be understood as (type, (1,)) / '(1,)type'.\n",
      "  np_resource = np.dtype([(\"resource\", np.ubyte, 1)])\n"
     ]
    },
    {
     "name": "stdout",
     "output_type": "stream",
     "text": [
      "WARNING:tensorflow:From /home/lyz/Desktop/ICBC/yolo.py:28: The name tf.ConfigProto is deprecated. Please use tf.compat.v1.ConfigProto instead.\n",
      "\n",
      "WARNING:tensorflow:From /home/lyz/Desktop/ICBC/yolo.py:30: The name tf.Session is deprecated. Please use tf.compat.v1.Session instead.\n",
      "\n"
     ]
    },
    {
     "name": "stderr",
     "output_type": "stream",
     "text": [
      "/home/lyz/miniconda3/envs/py36gpu/lib/python3.6/site-packages/tensorboard/compat/tensorflow_stub/dtypes.py:541: FutureWarning: Passing (type, 1) or '1type' as a synonym of type is deprecated; in a future version of numpy, it will be understood as (type, (1,)) / '(1,)type'.\n",
      "  _np_qint8 = np.dtype([(\"qint8\", np.int8, 1)])\n",
      "/home/lyz/miniconda3/envs/py36gpu/lib/python3.6/site-packages/tensorboard/compat/tensorflow_stub/dtypes.py:542: FutureWarning: Passing (type, 1) or '1type' as a synonym of type is deprecated; in a future version of numpy, it will be understood as (type, (1,)) / '(1,)type'.\n",
      "  _np_quint8 = np.dtype([(\"quint8\", np.uint8, 1)])\n",
      "/home/lyz/miniconda3/envs/py36gpu/lib/python3.6/site-packages/tensorboard/compat/tensorflow_stub/dtypes.py:543: FutureWarning: Passing (type, 1) or '1type' as a synonym of type is deprecated; in a future version of numpy, it will be understood as (type, (1,)) / '(1,)type'.\n",
      "  _np_qint16 = np.dtype([(\"qint16\", np.int16, 1)])\n",
      "/home/lyz/miniconda3/envs/py36gpu/lib/python3.6/site-packages/tensorboard/compat/tensorflow_stub/dtypes.py:544: FutureWarning: Passing (type, 1) or '1type' as a synonym of type is deprecated; in a future version of numpy, it will be understood as (type, (1,)) / '(1,)type'.\n",
      "  _np_quint16 = np.dtype([(\"quint16\", np.uint16, 1)])\n",
      "/home/lyz/miniconda3/envs/py36gpu/lib/python3.6/site-packages/tensorboard/compat/tensorflow_stub/dtypes.py:545: FutureWarning: Passing (type, 1) or '1type' as a synonym of type is deprecated; in a future version of numpy, it will be understood as (type, (1,)) / '(1,)type'.\n",
      "  _np_qint32 = np.dtype([(\"qint32\", np.int32, 1)])\n",
      "/home/lyz/miniconda3/envs/py36gpu/lib/python3.6/site-packages/tensorboard/compat/tensorflow_stub/dtypes.py:550: FutureWarning: Passing (type, 1) or '1type' as a synonym of type is deprecated; in a future version of numpy, it will be understood as (type, (1,)) / '(1,)type'.\n",
      "  np_resource = np.dtype([(\"resource\", np.ubyte, 1)])\n"
     ]
    }
   ],
   "source": [
    "from __future__ import division, print_function, absolute_import\n",
    "import sys\n",
    "import argparse\n",
    "import json\n",
    "import os\n",
    "import time\n",
    "import warnings\n",
    "\n",
    "import cv2\n",
    "import numpy as np\n",
    "import torch\n",
    "from PIL import Image\n",
    "from torchvision import transforms\n",
    "\n",
    "from deep_sort import nn_matching\n",
    "from deep_sort import preprocessing\n",
    "from deep_sort.detection import Detection\n",
    "from deep_sort.tracker import Tracker\n",
    "from mgn.network import MGN\n",
    "# from coordinate_transform import CoordTrans\n",
    "from mgn.utils.extract_feature import extract_feature\n",
    "from yolo import YOLO\n",
    "from utils.util import checkPoint\n"
   ]
  },
  {
   "cell_type": "code",
   "execution_count": 23,
   "metadata": {},
   "outputs": [],
   "source": [
    "def load_model_pytorch(model_path):\n",
    "    model = MGN()\n",
    "    model = model.to('cuda')\n",
    "    model.load_state_dict(torch.load(model_path))\n",
    "    return model\n",
    "\n",
    "#保存检测过程中的bbox\n",
    "def box_encode(model, img, boxes=None, prefix='./img1/'):\n",
    "    if boxes == None:\n",
    "        boxes = []\n",
    "        boxes.append([0,0, img.size[0], img.size[1]])\n",
    "    imgs = []\n",
    "#     print(img.size)\n",
    "    for box in boxes:\n",
    "        _box = box.copy()\n",
    "        _box[2] = _box[0] + _box[2]\n",
    "        _box[3] = _box[1] + _box[3]\n",
    "        imgs.append(img.crop(_box))\n",
    "#         print(img.crop(_box).size)\n",
    "\n",
    "    # img.save(os.path.join(prefix, 'raw.jpg'), quality=95)\n",
    "    # for idx, x in enumerate(imgs):\n",
    "    #     x.save(os.path.join(prefix, 'box'+str(idx)+'.jpg'), quality=95)\n",
    "\n",
    "    model.eval()\n",
    "    features = torch.FloatTensor()\n",
    "    test_transform = transforms.Compose([\n",
    "        transforms.Resize((384, 128), interpolation=3),\n",
    "        transforms.ToTensor(),\n",
    "        transforms.Normalize(mean=[0.485, 0.456, 0.406], std=[0.229, 0.224, 0.225])\n",
    "    ])\n",
    "    for _img in imgs:\n",
    "        _img = test_transform(_img)\n",
    "        query_feature = extract_feature(model, [(torch.unsqueeze(_img, 0), 1)])\n",
    "        features = torch.cat((features, query_feature), 0)\n",
    "    return features.numpy()\n",
    "def test(img1, img2, _model):\n",
    "    img1 = Image.fromarray(img1[...,::-1])\n",
    "    img2 = Image.fromarray(img2[...,::-1])\n",
    "    fea1 = box_encode(_model, img1)\n",
    "    fea2 = box_encode(_model, img2)\n",
    "    dis = np.dot(fea1[0], fea2[0])\n",
    "    \n",
    "    return dis"
   ]
  },
  {
   "cell_type": "code",
   "execution_count": 6,
   "metadata": {},
   "outputs": [],
   "source": [
    "_model = load_model_pytorch('/home/lyz/Desktop/ReID-MGN/model.pt')"
   ]
  },
  {
   "cell_type": "code",
   "execution_count": 25,
   "metadata": {},
   "outputs": [],
   "source": [
    "img_path = '/home/lyz/Desktop/ICBC/manager/'\n",
    "# print(list(os.listdir(img_path)))\n",
    "ans = []\n",
    "for i in os.listdir(img_path):\n",
    "    \n",
    "    if i.split('.')[-1] != 'png':continue\n",
    "    \n",
    "    for j in os.listdir(img_path):\n",
    "        if j.split('.')[-1] != 'png':continue\n",
    "        \n",
    "        img1 = cv2.imread(img_path+i)\n",
    "        img2 = cv2.imread(img_path+j)\n",
    "        dis = test(img1, img2, _model)\n",
    "        ans.append(dis)\n",
    "#         print(test(img1, img2, _model))"
   ]
  },
  {
   "cell_type": "code",
   "execution_count": 26,
   "metadata": {},
   "outputs": [
    {
     "name": "stdout",
     "output_type": "stream",
     "text": [
      "0.85996115\n"
     ]
    }
   ],
   "source": [
    "print(np.mean(ans))"
   ]
  }
 ],
 "metadata": {
  "kernelspec": {
   "display_name": "Python 3",
   "language": "python",
   "name": "python3"
  },
  "language_info": {
   "codemirror_mode": {
    "name": "ipython",
    "version": 3
   },
   "file_extension": ".py",
   "mimetype": "text/x-python",
   "name": "python",
   "nbconvert_exporter": "python",
   "pygments_lexer": "ipython3",
   "version": "3.6.12"
  }
 },
 "nbformat": 4,
 "nbformat_minor": 4
}
